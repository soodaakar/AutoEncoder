{
 "cells": [
  {
   "cell_type": "code",
   "execution_count": 1,
   "metadata": {
    "colab": {
     "base_uri": "https://localhost:8080/"
    },
    "id": "T9W_A412UsP0",
    "outputId": "1071e5da-98d9-4de5-9683-061d70e8cd5c"
   },
   "outputs": [],
   "source": [
    "### Reading all the libraries\n",
    "import pandas as pd\n",
    "import numpy as np\n",
    "from tensorflow.keras.datasets import cifar10\n",
    "import tensorflow as tf\n",
    "import copy\n",
    "from sklearn.metrics import silhouette_score\n",
    "# !pip install deepdiff\n",
    "from deepdiff import DeepDiff\n",
    "from sklearn.metrics import pairwise_distances\n",
    "# !pip install validclust\n",
    "from validclust import dunn\n",
    "import seaborn as sns\n",
    "from tensorflow import keras\n",
    "from tensorflow.keras.models import Sequential, Model\n",
    "from tensorflow.keras.layers import Dense, Input, Conv2D, MaxPooling2D, UpSampling2D, AveragePooling2D\n",
    "import matplotlib.pyplot as plt\n",
    "import logging\n",
    "tf.random.set_seed(2)\n",
    "tf.autograph.set_verbosity(0)\n",
    "logging.getLogger(\"tensorflow\").setLevel(logging.ERROR)"
   ]
  },
  {
   "cell_type": "markdown",
   "metadata": {
    "id": "7ITVl27ky3XI"
   },
   "source": [
    "### Reading Dataset"
   ]
  },
  {
   "cell_type": "code",
   "execution_count": 2,
   "metadata": {
    "id": "w99wGGOiU1Yk"
   },
   "outputs": [],
   "source": [
    "(X_train, y_train), (X_test, y_test) = cifar10.load_data()"
   ]
  },
  {
   "cell_type": "code",
   "execution_count": 3,
   "metadata": {
    "colab": {
     "base_uri": "https://localhost:8080/"
    },
    "id": "zlDBx4ShV9Gl",
    "outputId": "99ac4f2a-5666-4a51-94ab-7227af84fb5e"
   },
   "outputs": [
    {
     "data": {
      "text/plain": [
       "(50000, 1)"
      ]
     },
     "execution_count": 3,
     "metadata": {},
     "output_type": "execute_result"
    }
   ],
   "source": [
    "y_train.shape"
   ]
  },
  {
   "cell_type": "markdown",
   "metadata": {
    "id": "CYbbtI61y7n8"
   },
   "source": [
    "### Converting the images to grayscale "
   ]
  },
  {
   "cell_type": "code",
   "execution_count": 4,
   "metadata": {
    "id": "eMsKhb9dlqmi"
   },
   "outputs": [],
   "source": [
    "X_train = list(map(lambda x: tf.image.rgb_to_grayscale(x),X_train))\n",
    "X_test = list(map(lambda x: tf.image.rgb_to_grayscale(x),X_test))"
   ]
  },
  {
   "cell_type": "code",
   "execution_count": 5,
   "metadata": {},
   "outputs": [],
   "source": [
    "X_train_copy = np.array(copy.deepcopy(X_train))\n",
    "X_test_copy = np.array(copy.deepcopy(X_test))"
   ]
  },
  {
   "cell_type": "code",
   "execution_count": 6,
   "metadata": {
    "id": "_NHSUFutWBrT"
   },
   "outputs": [],
   "source": [
    "### Reshaping the images into 1024 features\n",
    "X_train = np.reshape(X_train,(50000,1024))\n",
    "X_test = np.reshape(X_test,(10000,1024))"
   ]
  },
  {
   "cell_type": "code",
   "execution_count": 7,
   "metadata": {
    "id": "GQJAhaQCnO_m"
   },
   "outputs": [],
   "source": [
    "### Changing the datatype of the stored values\n",
    "X_train = X_train.astype('float32')\n",
    "X_test = X_test.astype('float32')"
   ]
  },
  {
   "cell_type": "code",
   "execution_count": 8,
   "metadata": {
    "id": "yyQf2ywnWPxM"
   },
   "outputs": [],
   "source": [
    "### Scaling all the images by 255 pixel value so every value comes in the range of 0 to 1\n",
    "X_train = X_train / 255.0 \n",
    "X_test = X_test / 255.0"
   ]
  },
  {
   "cell_type": "markdown",
   "metadata": {},
   "source": [
    "## KMeans"
   ]
  },
  {
   "cell_type": "code",
   "execution_count": 9,
   "metadata": {
    "id": "SWjyzg_OWbF9"
   },
   "outputs": [],
   "source": [
    "### Defining a class for kmeans which takes in training data, label and has parameters no_cluster and max_iterations\n",
    "class Kmeans():\n",
    "### Defining the init function which will assign values to variables defined during class call\n",
    "    def __init__(self,train_data,label,no_clusters=10,max_iterations=1000):\n",
    "        self.no_clusters = no_clusters\n",
    "        self.max_iterations = max_iterations\n",
    "        self.loss_per_iteration = []\n",
    "        self.train_data = train_data\n",
    "        self.label = label\n",
    "### Defining a function to initialze the centroids value for the first set of iteration\n",
    "    def initialize_centroids(self):\n",
    "    ### Setting up random seed so that the same results can be replicated\n",
    "        np.random.seed(19)\n",
    "        self.centroids = []\n",
    "        for i in range(0,self.no_clusters):\n",
    "        ### Based on the number of clusters picking a variable which has the same cluster value and assigning its point location to one of the clusters\n",
    "            temp = np.random.choice(np.where(self.label==i)[0])\n",
    "            self.centroids.append(self.train_data[temp])\n",
    "        ### Setting a variable to have number of clusters.\n",
    "        self.cluster_tag = [i for i in range(0,self.no_clusters)]\n",
    "        ### Creating a variable to have the cluster name and its centroid point\n",
    "        self.centroid_data = {i:j for i,j in zip(self.cluster_tag,self.centroids)}\n",
    "\n",
    "### Function to calculate distance between centroid and different points\n",
    "    def calculate_distance(self):\n",
    "        distance = pd.DataFrame()\n",
    "        ### Loop condition which will calculate the distance between different centroid point and the whole dataset. Each iteration of loop will calculate the distance of centroid from the whole data.\n",
    "        for i in self.cluster_tag:\n",
    "            temp_ls = [list(map(lambda x: np.linalg.norm(self.centroid_data[i]-x),self.train_data))][0]\n",
    "            distance[str(i)] = temp_ls\n",
    "        ### Created a variable which will consist of the cluster name which have the shortest distance to that point.\n",
    "        lowest_distance = list(distance.idxmin(axis=1))\n",
    "        return np.array(lowest_distance)\n",
    "\n",
    "### Function which will update the centroid point based on the point it clusters in every iteration\n",
    "    def update_centroids(self,lowest_distance):\n",
    "        ### Creating a dictionary which will have the key as the cluster name and the value as all the points under that cluster name\n",
    "        self.cluster_data = {i:self.train_data[lowest_distance==str(i)] for i in range(0,10)}\n",
    "        ### Recalculating the centroid points for each cluster name by taking the mean of all the points classified in the present iteration\n",
    "        self.centroid_data = {i:self.cluster_data[i].mean(axis=0) for i in range(0,10)}\n",
    "\n",
    "### Function which will fit the model onto the data\n",
    "    def fit(self):\n",
    "        ### Triggering the intialize centroids function.\n",
    "        self.initialize_centroids()\n",
    "        ### Creating variables which will be used to trigger the termination condition. For the first iteration randomly assigning values to it\n",
    "        old_centroids = self.centroids\n",
    "        new_centroids = [np.add(self.centroids,10)]\n",
    "        iteration = 0\n",
    "        ### Below is the termination condition which check whether the old centroids points and the new centroids point are same or whether the number of iterations have reach the max iteration value. If either of the condition are true stop the loop\n",
    "        while DeepDiff(new_centroids,old_centroids) != {} and (iteration<self.max_iterations):\n",
    "            ### Assigning the value of new centroid points to the old centroid variable.\n",
    "            old_centroids = copy.deepcopy(new_centroids)\n",
    "            ### Calculating distance from each centroid and getting the cluster name for each entry in the dataset\n",
    "            predicted_labels = self.calculate_distance()\n",
    "            ### Based on the cluster value dervived from the previous step updating the centroid location.\n",
    "            self.update_centroids(predicted_labels)\n",
    "            ### Assigning the new centroid value to the variable 'new_centroids'\n",
    "            new_centroids = self.centroid_data\n",
    "            ### Incrementing the iteration variable with one\n",
    "            iteration = iteration+1\n",
    "#             print('Iteration number: ',iteration)\n",
    "    ### Printing the silhouette score once the while condition is terminated\n",
    "        print(\"Silhouette score: \",silhouette_score(self.train_data, predicted_labels, metric='euclidean'))\n",
    "        print(\"Dunn index score: \",dunn(pairwise_distances(self.train_data), predicted_labels))\n",
    "        return predicted_labels\n"
   ]
  },
  {
   "cell_type": "code",
   "execution_count": 10,
   "metadata": {
    "colab": {
     "base_uri": "https://localhost:8080/"
    },
    "id": "8GITpIgLI8CR",
    "outputId": "69a66e34-96c7-4068-d59b-f53d6d134c64",
    "scrolled": true
   },
   "outputs": [
    {
     "name": "stdout",
     "output_type": "stream",
     "text": [
      "Silhouette score:  0.05753015\n",
      "Dunn index score:  0.08956448\n"
     ]
    }
   ],
   "source": [
    "kmeans = Kmeans(X_test,y_test)\n",
    "labels = kmeans.fit()"
   ]
  },
  {
   "cell_type": "markdown",
   "metadata": {},
   "source": [
    "## Autoencoder"
   ]
  },
  {
   "cell_type": "code",
   "execution_count": 11,
   "metadata": {
    "id": "GQJAhaQCnO_m"
   },
   "outputs": [],
   "source": [
    "### Changing the datatype of the stored values\n",
    "X_train_copy = X_train_copy.astype('float32')\n",
    "X_test_copy = X_test_copy.astype('float32')"
   ]
  },
  {
   "cell_type": "code",
   "execution_count": 12,
   "metadata": {
    "id": "yyQf2ywnWPxM"
   },
   "outputs": [],
   "source": [
    "### Scaling all the images by 255 pixel value so every value comes in the range of 0 to 1\n",
    "X_train_copy = X_train_copy / 255.0 \n",
    "X_test_copy = X_test_copy / 255.0"
   ]
  },
  {
   "cell_type": "code",
   "execution_count": 13,
   "metadata": {},
   "outputs": [
    {
     "data": {
      "image/png": "[encoded data removed]",
      "text/plain": [
       "<Figure size 432x288 with 1 Axes>"
      ]
     },
     "metadata": {
      "needs_background": "light"
     },
     "output_type": "display_data"
    }
   ],
   "source": [
    "### How the image looks before feeding it to auto-encoder model\n",
    "plt.imshow(X_train_copy[10])\n",
    "plt.show()"
   ]
  },
  {
   "cell_type": "code",
   "execution_count": 14,
   "metadata": {},
   "outputs": [],
   "source": [
    "### Auto-encoder model architecture\n",
    "model = Sequential()\n",
    "model.add(Conv2D(filters=3,kernel_size=3,padding='same',activation='relu',input_shape=(32,32,1), activity_regularizer=keras.regularizers.l1(10e-9)))\n",
    "model.add(MaxPooling2D(pool_size = 2,padding='same'))\n",
    "model.add(Conv2D(filters=1,kernel_size=3,padding='same',activation='relu', activity_regularizer=keras.regularizers.l1(10e-9)))\n",
    "model.add(MaxPooling2D(pool_size = 2,padding='same',name='encoder_layer'))\n",
    "model.add(Conv2D(filters=1,kernel_size=3,padding='same',activation='relu', activity_regularizer=keras.regularizers.l1(10e-9)))\n",
    "model.add(UpSampling2D(2))\n",
    "model.add(Conv2D(filters=3,kernel_size=3,padding='same',activation='relu', activity_regularizer=keras.regularizers.l1(10e-9)))\n",
    "model.add(UpSampling2D(2))\n",
    "model.add(Conv2D(filters=1,kernel_size=3,padding='same',activation='relu', activity_regularizer=keras.regularizers.l1(10e-9)))"
   ]
  },
  {
   "cell_type": "code",
   "execution_count": 15,
   "metadata": {},
   "outputs": [],
   "source": [
    "### Compiling the model with optimizer as 'adam' and the loss value as 'mse'\n",
    "model.compile(loss='mse', optimizer = 'adam')"
   ]
  },
  {
   "cell_type": "code",
   "execution_count": 16,
   "metadata": {},
   "outputs": [
    {
     "name": "stdout",
     "output_type": "stream",
     "text": [
      "Model: \"sequential\"\n",
      "_________________________________________________________________\n",
      "Layer (type)                 Output Shape              Param #   \n",
      "=================================================================\n",
      "conv2d (Conv2D)              (None, 32, 32, 3)         30        \n",
      "_________________________________________________________________\n",
      "max_pooling2d (MaxPooling2D) (None, 16, 16, 3)         0         \n",
      "_________________________________________________________________\n",
      "conv2d_1 (Conv2D)            (None, 16, 16, 1)         28        \n",
      "_________________________________________________________________\n",
      "encoder_layer (MaxPooling2D) (None, 8, 8, 1)           0         \n",
      "_________________________________________________________________\n",
      "conv2d_2 (Conv2D)            (None, 8, 8, 1)           10        \n",
      "_________________________________________________________________\n",
      "up_sampling2d (UpSampling2D) (None, 16, 16, 1)         0         \n",
      "_________________________________________________________________\n",
      "conv2d_3 (Conv2D)            (None, 16, 16, 3)         30        \n",
      "_________________________________________________________________\n",
      "up_sampling2d_1 (UpSampling2 (None, 32, 32, 3)         0         \n",
      "_________________________________________________________________\n",
      "conv2d_4 (Conv2D)            (None, 32, 32, 1)         28        \n",
      "=================================================================\n",
      "Total params: 126\n",
      "Trainable params: 126\n",
      "Non-trainable params: 0\n",
      "_________________________________________________________________\n"
     ]
    }
   ],
   "source": [
    "### This will provide us with the complete architecture along with the number of parameters calculated and the image size at each layer\n",
    "model.summary()"
   ]
  },
  {
   "cell_type": "code",
   "execution_count": 17,
   "metadata": {},
   "outputs": [
    {
     "name": "stdout",
     "output_type": "stream",
     "text": [
      "Epoch 1/5\n"
     ]
    },
    {
     "name": "stderr",
     "output_type": "stream",
     "text": [
      "2021-11-14 20:05:06.121642: I tensorflow/compiler/mlir/mlir_graph_optimization_pass.cc:116] None of the MLIR optimization passes are enabled (registered 2)\n",
      "2021-11-14 20:05:06.121776: W tensorflow/core/platform/profile_utils/cpu_utils.cc:126] Failed to get CPU frequency: 0 Hz\n"
     ]
    },
    {
     "name": "stdout",
     "output_type": "stream",
     "text": [
      "1563/1563 - 5s - loss: 0.0248\n",
      "Epoch 2/5\n",
      "1563/1563 - 4s - loss: 0.0110\n",
      "Epoch 3/5\n",
      "1563/1563 - 4s - loss: 0.0103\n",
      "Epoch 4/5\n",
      "1563/1563 - 4s - loss: 0.0100\n",
      "Epoch 5/5\n",
      "1563/1563 - 4s - loss: 0.0098\n"
     ]
    },
    {
     "data": {
      "text/plain": [
       "<tensorflow.python.keras.callbacks.History at 0x12b1d1340>"
      ]
     },
     "execution_count": 17,
     "metadata": {},
     "output_type": "execute_result"
    }
   ],
   "source": [
    "### Fitting the autoencoder model on the dataset\n",
    "model.fit(X_train_copy,X_train_copy, batch_size=32, epochs=5,verbose=2)"
   ]
  },
  {
   "cell_type": "code",
   "execution_count": 18,
   "id": "0ca723cf",
   "metadata": {},
   "outputs": [],
   "source": [
    "### Extracting the representation of the image from the 'encoder_layer'\n",
    "encoder = Model(model.input, model.get_layer('encoder_layer').output)\n",
    "encoded_data = encoder.predict(X_train_copy)"
   ]
  },
  {
   "cell_type": "code",
   "execution_count": 19,
   "metadata": {},
   "outputs": [
    {
     "data": {
      "image/png": "[encoded data removed]",
      "text/plain": [
       "<Figure size 432x288 with 1 Axes>"
      ]
     },
     "metadata": {
      "needs_background": "light"
     },
     "output_type": "display_data"
    }
   ],
   "source": [
    "### How the image looks after extracting from encoded layer\n",
    "plt.imshow(encoded_data[10])\n",
    "plt.show()"
   ]
  },
  {
   "cell_type": "code",
   "execution_count": 20,
   "metadata": {},
   "outputs": [
    {
     "data": {
      "text/plain": [
       "<matplotlib.image.AxesImage at 0x12b30dc40>"
      ]
     },
     "execution_count": 20,
     "metadata": {},
     "output_type": "execute_result"
    },
    {
     "data": {
      "text/plain": [
       "<Figure size 432x288 with 0 Axes>"
      ]
     },
     "metadata": {},
     "output_type": "display_data"
    },
    {
     "data": {
      "image/png": "[encoded data removed]",
      "text/plain": [
       "<Figure size 720x720 with 6 Axes>"
      ]
     },
     "metadata": {
      "needs_background": "light"
     },
     "output_type": "display_data"
    }
   ],
   "source": [
    "### Plotting the image before and after autoencoder's encoder layer\n",
    "plt.figure()\n",
    "\n",
    "f, axarr = plt.subplots(2,3,figsize=(10,10)) \n",
    "axarr[0][0].imshow(X_train_copy[35])\n",
    "axarr[0][1].imshow(X_train_copy[30])\n",
    "axarr[0][2].imshow(X_train_copy[45])\n",
    "axarr[1][0].imshow(encoded_data[35])\n",
    "axarr[1][1].imshow(encoded_data[30])\n",
    "axarr[1][2].imshow(encoded_data[45])"
   ]
  },
  {
   "cell_type": "code",
   "execution_count": 21,
   "metadata": {},
   "outputs": [
    {
     "data": {
      "text/plain": [
       "(50000, 64)"
      ]
     },
     "execution_count": 21,
     "metadata": {},
     "output_type": "execute_result"
    }
   ],
   "source": [
    "### Converting the image size to feed it to kmeans clustering\n",
    "X_train_auto_encoder = encoded_data.reshape(50000,-1)\n",
    "X_train_auto_encoder.shape"
   ]
  },
  {
   "cell_type": "code",
   "execution_count": 22,
   "metadata": {},
   "outputs": [
    {
     "name": "stdout",
     "output_type": "stream",
     "text": [
      "Silhouette score:  0.076988675\n",
      "Dunn index score:  0.034984842\n"
     ]
    }
   ],
   "source": [
    "### Running kmeans clustering on the features extracted from the encoded layer built in auto encoder model\n",
    "kmean_auto = Kmeans(X_train_auto_encoder,y_train)\n",
    "labels_auto = kmean_auto.fit()"
   ]
  }
 ],
 "metadata": {
  "colab": {
   "collapsed_sections": [],
   "name": "aakarsoo_assignment2_Checkpoint.ipynb",
   "provenance": []
  },
  "kernelspec": {
   "display_name": "Python 3 (ipykernel)",
   "language": "python",
   "name": "python3"
  },
  "language_info": {
   "codemirror_mode": {
    "name": "ipython",
    "version": 3
   },
   "file_extension": ".py",
   "mimetype": "text/x-python",
   "name": "python",
   "nbconvert_exporter": "python",
   "pygments_lexer": "ipython3",
   "version": "3.8.12"
  }
 },
 "nbformat": 4,
 "nbformat_minor": 1
}
